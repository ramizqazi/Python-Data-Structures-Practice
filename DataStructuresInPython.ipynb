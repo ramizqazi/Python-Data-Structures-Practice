{
 "cells": [
  {
   "cell_type": "markdown",
   "id": "715640b9",
   "metadata": {},
   "source": [
    "# List"
   ]
  },
  {
   "cell_type": "code",
   "execution_count": 106,
   "id": "3b44641f",
   "metadata": {},
   "outputs": [],
   "source": [
    "students = ['ali', 'raza', 'ramiz',[10,20,30 ] ]"
   ]
  },
  {
   "cell_type": "code",
   "execution_count": 107,
   "id": "74396de0",
   "metadata": {},
   "outputs": [
    {
     "data": {
      "text/plain": [
       "10"
      ]
     },
     "execution_count": 107,
     "metadata": {},
     "output_type": "execute_result"
    }
   ],
   "source": [
    "students[-1][0]"
   ]
  },
  {
   "cell_type": "code",
   "execution_count": 108,
   "id": "a228b780",
   "metadata": {},
   "outputs": [],
   "source": [
    "students[-1][0] = 5"
   ]
  },
  {
   "cell_type": "code",
   "execution_count": 109,
   "id": "06b5b957",
   "metadata": {},
   "outputs": [
    {
     "data": {
      "text/plain": [
       "['ali', 'raza', 'ramiz', [5, 20, 30]]"
      ]
     },
     "execution_count": 109,
     "metadata": {},
     "output_type": "execute_result"
    }
   ],
   "source": [
    "students"
   ]
  },
  {
   "cell_type": "code",
   "execution_count": 110,
   "id": "623a0eb9",
   "metadata": {},
   "outputs": [],
   "source": [
    "del students[0]"
   ]
  },
  {
   "cell_type": "code",
   "execution_count": 111,
   "id": "c1d522c9",
   "metadata": {},
   "outputs": [
    {
     "data": {
      "text/plain": [
       "['raza', 'ramiz', [5, 20, 30]]"
      ]
     },
     "execution_count": 111,
     "metadata": {},
     "output_type": "execute_result"
    }
   ],
   "source": [
    "students\n"
   ]
  },
  {
   "cell_type": "code",
   "execution_count": 112,
   "id": "3bbdab04",
   "metadata": {},
   "outputs": [],
   "source": [
    "students.append('Qazi')"
   ]
  },
  {
   "cell_type": "code",
   "execution_count": 113,
   "id": "0b32b6bf",
   "metadata": {},
   "outputs": [
    {
     "data": {
      "text/plain": [
       "['raza', 'ramiz', [5, 20, 30], 'Qazi']"
      ]
     },
     "execution_count": 113,
     "metadata": {},
     "output_type": "execute_result"
    }
   ],
   "source": [
    "students"
   ]
  },
  {
   "cell_type": "code",
   "execution_count": 114,
   "id": "18b4a8e6",
   "metadata": {},
   "outputs": [],
   "source": [
    "students.insert(1, 'Rehman')"
   ]
  },
  {
   "cell_type": "code",
   "execution_count": 115,
   "id": "dbf194e0",
   "metadata": {},
   "outputs": [
    {
     "data": {
      "text/plain": [
       "['raza', 'Rehman', 'ramiz', [5, 20, 30], 'Qazi']"
      ]
     },
     "execution_count": 115,
     "metadata": {},
     "output_type": "execute_result"
    }
   ],
   "source": [
    "students"
   ]
  },
  {
   "cell_type": "code",
   "execution_count": 116,
   "id": "f071b3f5",
   "metadata": {},
   "outputs": [],
   "source": [
    "students.remove('ramiz')"
   ]
  },
  {
   "cell_type": "code",
   "execution_count": 117,
   "id": "2734ef07",
   "metadata": {},
   "outputs": [
    {
     "data": {
      "text/plain": [
       "['raza', 'Rehman', [5, 20, 30], 'Qazi']"
      ]
     },
     "execution_count": 117,
     "metadata": {},
     "output_type": "execute_result"
    }
   ],
   "source": [
    "students"
   ]
  },
  {
   "cell_type": "code",
   "execution_count": 118,
   "id": "efb7c725",
   "metadata": {},
   "outputs": [],
   "source": [
    "students.remove('Rehman')"
   ]
  },
  {
   "cell_type": "code",
   "execution_count": 119,
   "id": "1e3bbf39",
   "metadata": {},
   "outputs": [
    {
     "data": {
      "text/plain": [
       "['raza', [5, 20, 30], 'Qazi']"
      ]
     },
     "execution_count": 119,
     "metadata": {},
     "output_type": "execute_result"
    }
   ],
   "source": [
    "students"
   ]
  },
  {
   "cell_type": "code",
   "execution_count": 120,
   "id": "49ea54ea",
   "metadata": {},
   "outputs": [
    {
     "data": {
      "text/plain": [
       "['raza', [5, 20, 30]]"
      ]
     },
     "execution_count": 120,
     "metadata": {},
     "output_type": "execute_result"
    }
   ],
   "source": [
    "students.remove('Qazi')\n",
    "students"
   ]
  },
  {
   "cell_type": "code",
   "execution_count": 121,
   "id": "4bccc10a",
   "metadata": {},
   "outputs": [
    {
     "data": {
      "text/plain": [
       "0"
      ]
     },
     "execution_count": 121,
     "metadata": {},
     "output_type": "execute_result"
    }
   ],
   "source": [
    "students.index('raza')\n"
   ]
  },
  {
   "cell_type": "code",
   "execution_count": 122,
   "id": "85b4f9ec",
   "metadata": {},
   "outputs": [
    {
     "data": {
      "text/plain": [
       "[5, 20, 30]"
      ]
     },
     "execution_count": 122,
     "metadata": {},
     "output_type": "execute_result"
    }
   ],
   "source": [
    "list2 = students.pop();\n",
    "list2"
   ]
  },
  {
   "cell_type": "code",
   "execution_count": 123,
   "id": "c802a2f3",
   "metadata": {},
   "outputs": [
    {
     "data": {
      "text/plain": [
       "[]"
      ]
     },
     "execution_count": 123,
     "metadata": {},
     "output_type": "execute_result"
    }
   ],
   "source": [
    "list2.clear()\n",
    "list2"
   ]
  },
  {
   "cell_type": "code",
   "execution_count": 124,
   "id": "9a2fb821",
   "metadata": {},
   "outputs": [],
   "source": [
    "students.append('Ali')"
   ]
  },
  {
   "cell_type": "code",
   "execution_count": 125,
   "id": "c123992e",
   "metadata": {
    "scrolled": true
   },
   "outputs": [
    {
     "data": {
      "text/plain": [
       "['raza', 'Ali']"
      ]
     },
     "execution_count": 125,
     "metadata": {},
     "output_type": "execute_result"
    }
   ],
   "source": [
    "newStudents = students.copy()\n",
    "newStudents"
   ]
  },
  {
   "cell_type": "code",
   "execution_count": 126,
   "id": "3cf682a7",
   "metadata": {},
   "outputs": [
    {
     "data": {
      "text/plain": [
       "['raza', 'Ali', 'Azam', 'Babar']"
      ]
     },
     "execution_count": 126,
     "metadata": {},
     "output_type": "execute_result"
    }
   ],
   "source": [
    "students.extend(['Azam', 'Babar'])\n",
    "students"
   ]
  },
  {
   "cell_type": "code",
   "execution_count": 127,
   "id": "aafd0056",
   "metadata": {},
   "outputs": [],
   "source": [
    "students.extend(['Ahmed'])"
   ]
  },
  {
   "cell_type": "code",
   "execution_count": 128,
   "id": "8333dab9",
   "metadata": {},
   "outputs": [
    {
     "data": {
      "text/plain": [
       "['Ahmed', 'Babar', 'Azam', 'Ali', 'raza']"
      ]
     },
     "execution_count": 128,
     "metadata": {},
     "output_type": "execute_result"
    }
   ],
   "source": [
    "students.reverse();\n",
    "students"
   ]
  },
  {
   "cell_type": "markdown",
   "id": "f83fa1fe",
   "metadata": {},
   "source": [
    "# Slicing"
   ]
  },
  {
   "cell_type": "code",
   "execution_count": 129,
   "id": "f9935fab",
   "metadata": {},
   "outputs": [],
   "source": [
    "nums = [3, 4, 5, 1, 3, 5, 7, 12, 55, 33, 58, 79];"
   ]
  },
  {
   "cell_type": "code",
   "execution_count": 130,
   "id": "ac514b3f",
   "metadata": {},
   "outputs": [
    {
     "data": {
      "text/plain": [
       "[4, 5, 1, 3]"
      ]
     },
     "execution_count": 130,
     "metadata": {},
     "output_type": "execute_result"
    }
   ],
   "source": [
    "nums[1:5]"
   ]
  },
  {
   "cell_type": "code",
   "execution_count": 131,
   "id": "1609d36d",
   "metadata": {},
   "outputs": [
    {
     "data": {
      "text/plain": [
       "[3, 4, 5, 1, 3, 5, 7, 12, 55, 33, 58, 79]"
      ]
     },
     "execution_count": 131,
     "metadata": {},
     "output_type": "execute_result"
    }
   ],
   "source": [
    "nums"
   ]
  },
  {
   "cell_type": "code",
   "execution_count": 132,
   "id": "d5d974ff",
   "metadata": {},
   "outputs": [
    {
     "data": {
      "text/plain": [
       "[4, 1, 5]"
      ]
     },
     "execution_count": 132,
     "metadata": {},
     "output_type": "execute_result"
    }
   ],
   "source": [
    "nums[1:6:2]"
   ]
  },
  {
   "cell_type": "code",
   "execution_count": 133,
   "id": "f2fdeb3b",
   "metadata": {},
   "outputs": [
    {
     "data": {
      "text/plain": [
       "[7, 5, 3]"
      ]
     },
     "execution_count": 133,
     "metadata": {},
     "output_type": "execute_result"
    }
   ],
   "source": [
    "nums[6:3:-1]"
   ]
  },
  {
   "cell_type": "code",
   "execution_count": 134,
   "id": "891159c6",
   "metadata": {},
   "outputs": [
    {
     "data": {
      "text/plain": [
       "[12, 55, 33]"
      ]
     },
     "execution_count": 134,
     "metadata": {},
     "output_type": "execute_result"
    }
   ],
   "source": [
    "nums[-5:-2]"
   ]
  },
  {
   "cell_type": "markdown",
   "id": "9ac1eef6",
   "metadata": {},
   "source": [
    "# Tuple"
   ]
  },
  {
   "cell_type": "code",
   "execution_count": 136,
   "id": "90ea2a04",
   "metadata": {},
   "outputs": [
    {
     "data": {
      "text/plain": [
       "(2, 3, 4, 5, 6, 7)"
      ]
     },
     "execution_count": 136,
     "metadata": {},
     "output_type": "execute_result"
    }
   ],
   "source": [
    "_tuple = (2,3,4,5,6,7);\n",
    "_tuple"
   ]
  },
  {
   "cell_type": "code",
   "execution_count": 138,
   "id": "2efe229f",
   "metadata": {},
   "outputs": [
    {
     "data": {
      "text/plain": [
       "(5, 6, 7)"
      ]
     },
     "execution_count": 138,
     "metadata": {},
     "output_type": "execute_result"
    }
   ],
   "source": [
    "_tuple[3:6]"
   ]
  },
  {
   "cell_type": "markdown",
   "id": "c28b629e",
   "metadata": {},
   "source": [
    "# Sets"
   ]
  },
  {
   "cell_type": "code",
   "execution_count": 139,
   "id": "5b5e9fa3",
   "metadata": {},
   "outputs": [
    {
     "data": {
      "text/plain": [
       "{1, 2, 3, 4, 5, 6}"
      ]
     },
     "execution_count": 139,
     "metadata": {},
     "output_type": "execute_result"
    }
   ],
   "source": [
    "_sets = {1,2,3,4,5,6};\n",
    "_sets"
   ]
  },
  {
   "cell_type": "code",
   "execution_count": 140,
   "id": "c7fc2a28",
   "metadata": {},
   "outputs": [
    {
     "ename": "TypeError",
     "evalue": "'int' object is not iterable",
     "output_type": "error",
     "traceback": [
      "\u001b[1;31m---------------------------------------------------------------------------\u001b[0m",
      "\u001b[1;31mTypeError\u001b[0m                                 Traceback (most recent call last)",
      "Input \u001b[1;32mIn [140]\u001b[0m, in \u001b[0;36m<cell line: 1>\u001b[1;34m()\u001b[0m\n\u001b[1;32m----> 1\u001b[0m \u001b[43m_sets\u001b[49m\u001b[38;5;241;43m.\u001b[39;49m\u001b[43mdifference\u001b[49m\u001b[43m(\u001b[49m\u001b[38;5;241;43m3\u001b[39;49m\u001b[43m)\u001b[49m\n\u001b[0;32m      2\u001b[0m _sets\n",
      "\u001b[1;31mTypeError\u001b[0m: 'int' object is not iterable"
     ]
    }
   ],
   "source": [
    "_sets.difference(3)\n",
    "_sets"
   ]
  }
 ],
 "metadata": {
  "kernelspec": {
   "display_name": "Python 3 (ipykernel)",
   "language": "python",
   "name": "python3"
  },
  "language_info": {
   "codemirror_mode": {
    "name": "ipython",
    "version": 3
   },
   "file_extension": ".py",
   "mimetype": "text/x-python",
   "name": "python",
   "nbconvert_exporter": "python",
   "pygments_lexer": "ipython3",
   "version": "3.9.12"
  }
 },
 "nbformat": 4,
 "nbformat_minor": 5
}
